{
  "cells": [
    {
      "cell_type": "markdown",
      "metadata": {
        "id": "vC84e9kzyxPy"
      },
      "source": [
        "<h1>Импорт библиотек"
      ]
    },
    {
      "cell_type": "code",
      "execution_count": 3,
      "metadata": {
        "id": "cgKeNegmQG5S"
      },
      "outputs": [],
      "source": [
        "import numpy as np\n",
        "import matplotlib.pyplot as plt"
      ]
    },
    {
      "cell_type": "markdown",
      "metadata": {
        "id": "qFM9uVU2x4Ls"
      },
      "source": [
        "<h1>Задача 1. Дан набор из $p$ матриц размерностью $(n, n)$ и $p$ векторов размерностью $(n, 1)$, найти сумму произведений матриц на векторы. Написать тесты для кода"
      ]
    },
    {
      "cell_type": "code",
      "execution_count": null,
      "metadata": {
        "id": "IAbUvEiYyWFF"
      },
      "outputs": [],
      "source": [
        "import numpy as np\n",
        "\n",
        "def sum_prod(X, V):\n",
        "    result = np.zeros_like(V[0])\n",
        "    for i in range(len(X)):\n",
        "        result += np.dot(X[i], V[i])\n",
        "        \n",
        "    return result\n",
        "\n",
        "# Тесты\n",
        "def test_sum_prod():\n",
        "    X = [np.array([[1, 1, 1], [3, 2, 1], [4, 4, 4]]), np.array([[1, 2, 3], [4, 5, 6], [7, 8, 9]])]\n",
        "    V = [np.array([[5], [2], [3]]), np.array([[1], [1], [1]])]\n",
        "    expected_result = np.array([[16], [37], [64]])\n",
        "    assert np.array_equal(sum_prod(X, V), expected_result)\n",
        "    print('Все тесты пройдены успешно!')\n",
        "\n",
        "test_sum_prod()"
      ]
    },
    {
      "cell_type": "markdown",
      "metadata": {
        "id": "TKwPG4fIy2w4"
      },
      "source": [
        "<h1>Задача 2. Дана матрица M, напишите функцию, которая бинаризует матрицу по некоторому threshold (то есть, все значения большие threshold становятся равными 1, иначе 0). Напишите тесты для кода"
      ]
    },
    {
      "cell_type": "code",
      "execution_count": null,
      "metadata": {
        "id": "KQDNMgsjRNH7"
      },
      "outputs": [],
      "source": [
        "import numpy as np\n",
        "\n",
        "def binarize(M, threshold=0.5):\n",
        "    return (M > threshold).astype(int)\n",
        "\n",
        "#Тесты\n",
        "def test_binarize():\n",
        "    M = np.array([[0.4, 0.6], [0.7, 0.3]])\n",
        "    expected_result = np.array([[0, 1], [1, 0]])\n",
        "    assert np.array_equal(binarize(M), expected_result)\n",
        "    assert np.array_equal(binarize(np.array([])), np.array([]))\n",
        "    print('Все тесты пройдены успешно!')\n",
        "    \n",
        "test_binarize()"
      ]
    },
    {
      "cell_type": "markdown",
      "metadata": {
        "id": "IY5L-h-7zWhN"
      },
      "source": [
        "<h1>Задача 3. Напишите функцию, которая возвращает уникальные элементы из каждой строки матрицы. Напишите такую же функцию, но для столбцов. Напишите тесты для кода"
      ]
    },
    {
      "cell_type": "code",
      "execution_count": null,
      "metadata": {
        "id": "-8dEZhR0SBC-"
      },
      "outputs": [],
      "source": [
        "import numpy as np\n",
        "\n",
        "def unique_rows(mat):\n",
        "    return [list(set(np.unique(row))) for row in mat]\n",
        "\n",
        "def unique_columns(mat):\n",
        "    transposed_mat = np.transpose(mat)\n",
        "    return [list(set(np.unique(row))) for row in transposed_mat]\n",
        "\n",
        "# Тесты\n",
        "def test():\n",
        "    Test_mat = [\n",
        "    [1, 5, 5, 9],\n",
        "    [2, 6, 3, 8],\n",
        "    [3, 9, 0, 0],\n",
        "    [3, 2, 7, 0]\n",
        "    ]\n",
        "    unique_rows_list = [[1, 5, 9], [8, 2, 3, 6], [0, 9, 3], [0, 2, 3, 7]]\n",
        "    unique_cols_list = [[1, 2, 3], [9, 2, 5, 6], [0, 3, 5, 7], [0, 8, 9]]\n",
        "\n",
        "    assert unique_rows(Test_mat) == unique_rows_list\n",
        "    assert unique_columns(Test_mat) == unique_cols_list\n",
        "    print('Все тесты пройдены успешно!')\n",
        "\n",
        "test()"
      ]
    },
    {
      "cell_type": "markdown",
      "metadata": {
        "id": "roYAlo4Jz-lH"
      },
      "source": [
        "<h1>Задача 4. Напишите функцию, которая заполняет матрицу с размерами $(m, n)$ случайными числами, распределенными по нормальному закону. Затем считает мат. ожидание и дисперсию для каждого из столбцов и строк, а также строит для каждой строки и столбца гистограмму значений (использовать функцию hist из модуля matplotlib.plot)"
      ]
    },
    {
      "cell_type": "code",
      "execution_count": null,
      "metadata": {
        "id": "nZK_71hMSQzv"
      },
      "outputs": [],
      "source": [
        "import numpy as np\n",
        "import matplotlib.pyplot as plt\n",
        "\n",
        "def generate_random_matrix(m, n):\n",
        "    mat = np.random.randn(m, n)\n",
        "    \n",
        "    column_means = np.mean(mat, axis=0)\n",
        "    column_variances = np.var(mat, axis=0)\n",
        "    row_means = np.mean(mat, axis=1)\n",
        "    row_variances = np.var(mat, axis=1)\n",
        "\n",
        "    for i in range(m):\n",
        "        plt.figure()\n",
        "        plt.subplot(1, 2, 1)\n",
        "        plt.hist(mat[i, :], bins = n, color='green', edgecolor='black')\n",
        "        plt.title(f'Histogram for row {i+1}')\n",
        "        plt.show()\n",
        "    for i in range(n):\n",
        "        plt.subplot(1, 2, 2)\n",
        "        plt.hist(mat[:, i], bins = m, color='blue', edgecolor='black')\n",
        "        plt.title(f'Histogram for column {i+1}')\n",
        "        plt.show()\n",
        "\n",
        "    return column_means, row_means, column_variances, row_variances, mat\n",
        "\n",
        "# Пример использования\n",
        "m = 12\n",
        "n = 6\n",
        "\n",
        "column_means, row_means, column_variances, row_variances, matrix = generate_random_matrix(m, n)\n",
        "\n",
        "print('Matrix:')\n",
        "print(matrix.round(2))\n",
        "print('Mean for columns:')\n",
        "print(column_means.round(2))\n",
        "print('Mean for rows:')\n",
        "print(row_means.round(2))\n",
        "print('Variable for columns:')\n",
        "print(column_variances.round(2))\n",
        "print('Variable for rows:')\n",
        "print(row_variances.round(2))"
      ]
    },
    {
      "cell_type": "markdown",
      "metadata": {
        "id": "BDyATNdM0dJ2"
      },
      "source": [
        "<h1>Задача 5. Напишите функцию, которая заполняет матрицу $(m, n)$ в шахматном порядке заданными числами $a$ и $b$. Напишите тесты для кода"
      ]
    },
    {
      "cell_type": "code",
      "execution_count": null,
      "metadata": {
        "id": "RWNJYWQGecS6"
      },
      "outputs": [],
      "source": [
        "def chess(m, n, a, b):\n",
        "    matrix = [[a if (i+j) % 2 == 0 else b for j in range(n)] for i in range(m)]\n",
        "    return matrix\n",
        "\n",
        "# Тесты\n",
        "def test_chess():\n",
        "    m, n = 3, 3\n",
        "    a, b = 0, 1\n",
        "    expected_result = [[0, 1, 0], [1, 0, 1], [0, 1, 0]]\n",
        "    assert chess(m, n, a, b) == expected_result\n",
        "\n",
        "    m, n = 2, 4\n",
        "    a, b = 'X', 'O'\n",
        "    expected_result = [['X', 'O', 'X', 'O'], ['O', 'X', 'O', 'X']]\n",
        "    assert chess(m, n, a, b) == expected_result\n",
        "\n",
        "    m, n = 4, 2\n",
        "    a, b = True, False\n",
        "    expected_result = [[True, False], [False, True], [True, False], [False, True]]\n",
        "    assert chess(m, n, a, b) == expected_result\n",
        "\n",
        "    print('Все тесты пройдены успешно!')\n",
        "\n",
        "test_chess()"
      ]
    },
    {
      "cell_type": "markdown",
      "metadata": {
        "id": "-ymXLtTN0vB6"
      },
      "source": [
        "<h1>Задача 6. Напишите функцию, которая отрисовывает прямоугольник с заданными размерами (a, b) на изображении размера (m, n), цвет фона задайте в схеме RGB, как и цвет прямоугольника. Цвета также должны быть параметрами функции. Напишите аналогичную функцию но для овала с полуосями a и b. Напишите тесты для кода.\n",
        "Примечание: уравнение эллипса (границы овала) можно записать как:\n",
        "<h1>$\\frac{(x-x_0)^2}{a^2}+\\frac{(y-y_0)^2}{b^2}=1$"
      ]
    },
    {
      "cell_type": "code",
      "execution_count": null,
      "metadata": {
        "id": "sNfl1t_kfOF4"
      },
      "outputs": [],
      "source": [
        "import matplotlib.pyplot as plt\n",
        "import matplotlib.patches as patches\n",
        "\n",
        "def draw_rectangle(a, b, m, n, rectangle_color, background_color):\n",
        "    # Создание новой фигуры и оси для прямоугольника\n",
        "    fig_rect = plt.figure()\n",
        "    ax_rect = fig_rect.add_subplot(111)\n",
        "\n",
        "    # Создание прямоугольника и фона\n",
        "    background = patches.Rectangle((0, 0), m, n, color=background_color)\n",
        "    rect = patches.Rectangle(((m - a) / 2, (n - b) / 2), a, b, color=rectangle_color)\n",
        "\n",
        "    # Добавление прямоугольника и фона на ось\n",
        "    ax_rect.add_patch(background)\n",
        "    ax_rect.add_patch(rect)\n",
        "\n",
        "    # Установка пределов осей\n",
        "    plt.xlim(0, m)\n",
        "    plt.ylim(0, n)\n",
        "    plt.show()\n",
        "\n",
        "\n",
        "def draw_ellipse(a, b, m, n, ellipse_color, background_color):\n",
        "    # Создание новой фигуры и оси для овала\n",
        "    fig_ellipse = plt.figure()\n",
        "    ax_ellipse = fig_ellipse.add_subplot(111)\n",
        "\n",
        "    # Изменение размеров полуосей для овала\n",
        "    a *= 2\n",
        "    b *= 2\n",
        "\n",
        "    # Создание овала и фона\n",
        "    background = patches.Rectangle((0, 0), m, n, color=background_color)\n",
        "    eli = patches.Ellipse((m / 2, n / 2), a, b, color=ellipse_color)\n",
        "\n",
        "    # Добавление овала и фона на ось\n",
        "    ax_ellipse.add_patch(background)\n",
        "    ax_ellipse.add_patch(eli)\n",
        "\n",
        "    # Установка пределов осей\n",
        "    plt.xlim(0, m)\n",
        "    plt.ylim(0, n)\n",
        "    plt.show()\n",
        "\n",
        "# Тест\n",
        "a = 40\n",
        "b = 90\n",
        "m = 100\n",
        "n = 300\n",
        "rectangle_color = '#6767e0'\n",
        "ellipse_color = '#354d73'\n",
        "background_color = '#e6e6fa'\n",
        "\n",
        "draw_rectangle(a, b, m, n, rectangle_color, background_color)\n",
        "draw_ellipse(a, b, m, n, ellipse_color, background_color)"
      ]
    },
    {
      "cell_type": "markdown",
      "metadata": {
        "id": "S82c38oz244H"
      },
      "source": [
        "<h1>Задача 7. Дан некий временной ряд. Для данного ряда нужно найти его: математическое ожидание, дисперсию, СКО, найти все локальные максимумы и минимумы (локальный максимум - это точка, которая больше своих соседних точек, а локальный минимум - это точка, которая меньше своих соседей), а также вычислить для данного ряда другой ряд, получаемый методом скользящего среднего с размером окна $p$.\n",
        "<h1>Примечание: метод скользящего среднего подразумевает нахождение среднего из подмножетсва ряда размером $p$"
      ]
    },
    {
      "cell_type": "code",
      "execution_count": null,
      "metadata": {
        "id": "Zb9mIVge5MMt"
      },
      "outputs": [],
      "source": [
        "import numpy as np\n",
        "\n",
        "def time_series_analysis(ts, p):\n",
        "    mean = np.mean(ts)\n",
        "    variance = np.var(ts)\n",
        "    deviation = np.std(ts)\n",
        "\n",
        "    local_min = [ts[i] for i in range(1, len(ts) - 1) if ts[i] < ts[i - 1] and ts[i] < ts[i + 1]]\n",
        "    local_max = [ts[i] for i in range(1, len(ts) - 1) if ts[i] > ts[i - 1] and ts[i] > ts[i + 1]]\n",
        "\n",
        "    smooth_ts = np.convolve(ts, np.ones(p), mode='valid') / p\n",
        "\n",
        "    return mean, variance, deviation, local_min, local_max, smooth_ts\n",
        "\n",
        "Series = np.array([2, 4, 5, 6, 5, 1, 7, 3, 7, 9])\n",
        "p = 3\n",
        "\n",
        "mean, variance, deviation, local_max, local_min, smoothed_series = time_series_analysis(Series, p)\n",
        "\n",
        "print('Математическое ожидание:', mean)\n",
        "print('Дисперсия:', variance)\n",
        "print('СКО:', deviation)\n",
        "print('Локальные максимумы:', local_max)\n",
        "print('Локальные минимумы:', local_min)\n",
        "print('Скользящее среднее:', smoothed_series)\n"
      ]
    },
    {
      "cell_type": "markdown",
      "metadata": {
        "id": "jPkylmOX5O9n"
      },
      "source": [
        "<h1> Задача 8. Дан некоторый вектор с целочисленными метками классов, напишите функцию, которая выполняет one-hot-encoding для данного вектора\n",
        "<h1> One-hot-encoding - представление, в котором на месте метки некоторого класса стоит 1, в остальных позициях стоит 0. Например для вектора [0, 2, 3, 0] one-hot-encoding выглядит как: [[1, 0, 0, 0], [0, 0, 1, 0], [0, 0, 0, 1], [1, 0, 0, 0]]"
      ]
    },
    {
      "cell_type": "code",
      "execution_count": null,
      "metadata": {
        "id": "Y-jlnZvw56lD"
      },
      "outputs": [],
      "source": [
        "import numpy as np\n",
        "\n",
        "def one_hot_encoding(labels, num_classes):\n",
        "\n",
        "    one_hot_matrix = np.zeros((len(labels), num_classes), dtype=int)\n",
        "    for i, label in enumerate(labels):\n",
        "        one_hot_matrix[i, label] = 1\n",
        "    return one_hot_matrix\n",
        "\n",
        "labels = [0, 2, 3, 0]\n",
        "num_classes = 4\n",
        "one_hot_matrix = one_hot_encoding(labels, num_classes)\n",
        "print(one_hot_matrix)"
      ]
    }
  ],
  "metadata": {
    "colab": {
      "provenance": []
    },
    "kernelspec": {
      "display_name": "Python 3",
      "name": "python3"
    },
    "language_info": {
      "codemirror_mode": {
        "name": "ipython",
        "version": 3
      },
      "file_extension": ".py",
      "mimetype": "text/x-python",
      "name": "python",
      "nbconvert_exporter": "python",
      "pygments_lexer": "ipython3",
      "version": "3.12.0"
    }
  },
  "nbformat": 4,
  "nbformat_minor": 0
}

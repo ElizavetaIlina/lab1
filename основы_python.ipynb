{
  "cells": [
    {
      "cell_type": "markdown",
      "metadata": {
        "id": "M-DGa20PaHnu"
      },
      "source": [
        "#Задача 1\n",
        "Написать функцию на вход которой подается строка, состоящая из латинских букв.\n",
        "Функция должна вернуть количество гласных букв (a, e, i, o, u) в этой строке. Написать тесты для кода"
      ]
    },
    {
      "cell_type": "code",
      "execution_count": null,
      "metadata": {
        "id": "XvX8X_JJ6PCb"
      },
      "outputs": [],
      "source": [
        "def count_vowels(s):\n",
        "    vowels = \"aeiou\"\n",
        "    count = 0\n",
        "    for char in s:\n",
        "        if char.lower() in vowels:\n",
        "            count += 1\n",
        "    return count\n",
        "\n",
        "# Тесты\n",
        "def test_count_vowels():\n",
        "    assert count_vowels(\"\") == 0\n",
        "    assert count_vowels(\"bcd fgh jklmnpqr stvwxyz\") == 0\n",
        "    assert count_vowels(\"aeiou\") == 5\n",
        "    assert count_vowels(\"Hello, World!\") == 3\n",
        "    assert count_vowels(\"AbcDEfGhIjOuY\") == 5\n",
        "\n",
        "    print(\"Все тесты пройдены успешно!\")\n",
        "\n",
        "test_count_vowels()"
      ]
    },
    {
      "cell_type": "markdown",
      "metadata": {
        "id": "t2ClV_Y0bbr6"
      },
      "source": [
        "# Задача 2\n",
        "Написать функцию на вход, которой подается строка. Функция должна вернуть true, если\n",
        "каждый символ в строке встречается только 1 раз, иначе должна вернуть false. Написать тесты для кода"
      ]
    },
    {
      "cell_type": "code",
      "execution_count": null,
      "metadata": {
        "id": "FppbECao6VIz"
      },
      "outputs": [],
      "source": [
        "def check_unique_chars(input_str):\n",
        "    char_count = {}\n",
        "    for char in input_str:\n",
        "        if char in char_count:\n",
        "            return False\n",
        "        char_count[char] = 1\n",
        "    return True\n",
        "\n",
        "# Тесты\n",
        "def test_check_unique_chars():\n",
        "    assert check_unique_chars(\"abcdefg\") == True\n",
        "    assert check_unique_chars(\"abcdeff\") == False\n",
        "    assert check_unique_chars(\"12345\") == True\n",
        "    assert check_unique_chars(\"112233\") == False\n",
        "    assert check_unique_chars(\"\") == True\n",
        "    assert check_unique_chars(\"qwertyuiopasdfghjklzxcvbnm\") == True\n",
        "    assert check_unique_chars(\"qwertyuiopasdfghjklzxcvbnma\") == False\n",
        "    \n",
        "    print(\"Все тесты пройдены успешно!\")\n",
        "\n",
        "test_check_unique_chars()"
      ]
    },
    {
      "cell_type": "markdown",
      "metadata": {
        "id": "udRiIK1cdt6E"
      },
      "source": [
        "# Задача 3\n",
        "Написать функцию, которая принимает положительное число и возвращает количество\n",
        "бит равных 1 в этом числе. Написать тесты для кода"
      ]
    },
    {
      "cell_type": "code",
      "execution_count": null,
      "metadata": {
        "id": "6tkfDJRz6dp_"
      },
      "outputs": [],
      "source": [
        "def count_bits(n):\n",
        "    count = 0\n",
        "    while n:\n",
        "        count += n & 1\n",
        "        n >>= 1\n",
        "    return count\n",
        "\n",
        "# Тесты\n",
        "def test_count_bits():\n",
        "    assert count_bits(0) == 0\n",
        "    assert count_bits(1) == 1\n",
        "    assert count_bits(2) == 1\n",
        "    assert count_bits(3) == 2\n",
        "    assert count_bits(4) == 1\n",
        "    assert count_bits(5) == 2\n",
        "    assert count_bits(10) == 2\n",
        "    assert count_bits(1023) == 10\n",
        "\n",
        "if __name__ == \"__main__\":\n",
        "    test_count_bits()\n",
        "    print(\"Все тесты пройдены успешно!\")"
      ]
    },
    {
      "cell_type": "markdown",
      "metadata": {
        "id": "26dDUz-Ae17N"
      },
      "source": [
        "# Задача 4\n",
        "Написать функцию, которая принимает положительное число. Функция должна вернуть то,\n",
        "сколько раз необходимо перемножать цифры числа или результат перемножения, чтобы\n",
        "получилось число состоящее из одной цифры.\n",
        "Например, для входного числа:\n",
        "· 39 функция должна вернуть 3, так как 3*9=27 => 2*7=14 => 1*4=4\n",
        "· 4 функция должна вернуть 0, так как число уже состоит из одной цифры\n",
        "· 999 функция должна вернуть 4, так как 9*9*9=729 => 7*2*9=126 => 1*2*6=12 =>\n",
        "1*2=2. Написать тесты для кода"
      ]
    },
    {
      "cell_type": "code",
      "execution_count": null,
      "metadata": {
        "id": "BH1A_Mgi6i4G"
      },
      "outputs": [],
      "source": [
        "def magic(n):\n",
        "    count = 0\n",
        "    while n >= 10:\n",
        "        result = 1\n",
        "        while n > 0:\n",
        "            result *= n % 10\n",
        "            n //= 10\n",
        "        n = result\n",
        "        count += 1\n",
        "    return count\n",
        "\n",
        "# Тесты\n",
        "def test_magic():\n",
        "    assert magic(39) == 3\n",
        "    assert magic(4) == 0\n",
        "    assert magic(999) == 4\n",
        "    assert magic(111) == 1\n",
        "    assert magic(12345) == 2\n",
        "    assert magic(7777777) == 3\n",
        "\n",
        "    print(\"Все тесты пройдены успешно!\")\n",
        "\n",
        "test_magic()"
      ]
    },
    {
      "cell_type": "markdown",
      "metadata": {
        "id": "0nS-kIa8g8vd"
      },
      "source": [
        "# Задача 5\n",
        "Написать функцию, которая принимает два целочисленных вектора одинаковой длины и\n",
        "возвращает среднеквадратическое отклонение двух векторов. Написать тесты для кода"
      ]
    },
    {
      "cell_type": "code",
      "execution_count": null,
      "metadata": {
        "id": "8iphx4LM6xbx"
      },
      "outputs": [],
      "source": [
        "import math\n",
        "def mse(pred, true):\n",
        "    if len(pred) != len(true):\n",
        "        raise ValueError(\"Векторы должны быть одинаковой длины!\")\n",
        "\n",
        "    n = len(pred)\n",
        "    squared_diff_sum = sum((pred[i] - true[i]) ** 2 for i in range(n))\n",
        "    mean_squared_diff = squared_diff_sum / n\n",
        "    mse_value = math.sqrt(mean_squared_diff)\n",
        "    \n",
        "    return mse_value\n",
        "\n",
        "def test_mse_equal_vectors():\n",
        "    pred = [1, 2, 3, 4, 5]\n",
        "    true = [1, 2, 3, 4, 5]\n",
        "    assert mse(pred, true) == 0\n",
        "\n",
        "def test_mse_different_lengths():\n",
        "    pred = [1, 2, 3, 4, 5]\n",
        "    true = [1, 2, 3, 4]\n",
        "    try:\n",
        "        mse(pred, true)\n",
        "    except ValueError as e:\n",
        "        assert str(e) == \"Векторы должны быть одинаковой длины!\"\n",
        "\n",
        "test_mse_equal_vectors()\n",
        "test_mse_different_lengths()\n",
        "print('Все тесты пройдены успешно!')\n"
      ]
    },
    {
      "cell_type": "markdown",
      "metadata": {
        "id": "vpIPKL439zkw"
      },
      "source": [
        "# Задача 6\n",
        "Написать функцию, принимающая целое положительное число. Функция должна вернуть\n",
        "строку вида “(n1**p1)(n2**p2)…(nk**pk)” представляющая разложение числа на простые\n",
        "множители (если pi == 1, то выводить только ni).\n",
        "Например, для числа 86240 функция должна вернуть “(2**5)(5)(7**2)(11)”. Написать тесты для кода"
      ]
    },
    {
      "cell_type": "code",
      "execution_count": null,
      "metadata": {
        "id": "pFebmcZk94Jw"
      },
      "outputs": [],
      "source": [
        "def prime_factors(n):\n",
        "    factors = []\n",
        "    divisor = 2\n",
        "    while n > 1:\n",
        "        count = 0\n",
        "        while n % divisor == 0:\n",
        "            n //= divisor\n",
        "            count += 1\n",
        "        if count > 0:\n",
        "            factors.append((divisor, count) if count > 1 else divisor)\n",
        "        divisor += 1\n",
        "    return factors\n",
        "\n",
        "def format_prime_factors(n):\n",
        "    factors = prime_factors(n)\n",
        "    result = \"\"\n",
        "    for factor in factors:\n",
        "        if isinstance(factor, tuple):\n",
        "            result += f\"({factor[0]}**{factor[1]})\"\n",
        "        else:\n",
        "            result += f\"({factor})\"\n",
        "    return result\n",
        "\n",
        "#Тесты\n",
        "def test_format_prime_factors():\n",
        "    assert format_prime_factors(2) == \"(2)\"\n",
        "    assert format_prime_factors(5) == \"(5)\"\n",
        "    assert format_prime_factors(10) == \"(2)(5)\"\n",
        "    assert format_prime_factors(36) == \"(2**2)(3**2)\"\n",
        "    assert format_prime_factors(100) == \"(2**2)(5**2)\"\n",
        "    assert format_prime_factors(86240) == \"(2**5)(5)(7**2)(11)\"\n",
        "\n",
        "test_format_prime_factors()\n",
        "print(\"Все тесты пройдены успешно!\")\n"
      ]
    },
    {
      "cell_type": "markdown",
      "metadata": {
        "id": "ps2s0BudX7A2"
      },
      "source": [
        "# Задача 7\n",
        "Написать функцию, принимающая целое число n, задающее количество кубиков. Функция\n",
        "должна определить, можно ли из данного кол-ва кубиков построить пирамиду, то есть\n",
        "можно ли представить число n как 1^2+2^2+3^2+…+k^2. Если можно, то функция должна\n",
        "вернуть k, иначе строку “It is impossible”. Написать тесты для кода"
      ]
    },
    {
      "cell_type": "code",
      "execution_count": null,
      "metadata": {
        "id": "3YPjEXxhX_YT"
      },
      "outputs": [],
      "source": [
        "def pyramid(number):\n",
        "    total_cubes = 0\n",
        "    k = 0\n",
        "    while total_cubes < number:\n",
        "        k += 1\n",
        "        total_cubes += k ** 2\n",
        "    return k if total_cubes == number else \"It is impossible\"\n",
        "\n",
        "#Тесты\n",
        "def test_pyramid_possible():\n",
        "    assert pyramid(1) == 1\n",
        "    assert pyramid(5) == 2\n",
        "    assert pyramid(14) == 3\n",
        "    assert pyramid(30) == 4\n",
        "    assert pyramid(55) == 5\n",
        "\n",
        "def test_pyramid_impossible():\n",
        "    assert pyramid(2) == \"It is impossible\"\n",
        "    assert pyramid(3) == \"It is impossible\"\n",
        "    assert pyramid(6) == \"It is impossible\"\n",
        "\n",
        "test_pyramid_possible()\n",
        "test_pyramid_impossible()\n",
        "print(\"Все тесты пройдены успешно!\")"
      ]
    },
    {
      "cell_type": "markdown",
      "metadata": {
        "id": "KeKgmIdAQMEJ"
      },
      "source": [
        "# Задача 8\n",
        "Функция принимает на вход положительное число и определяет является ли оно сбалансированным, т.е. сумма цифр до средних равна сумме цифр после. Средними в случае нечетного числа цифр считать одну цифру, в случае четного - две средних. Написать тесты для кода"
      ]
    },
    {
      "cell_type": "code",
      "execution_count": null,
      "metadata": {
        "id": "gMAAqtqlQrZt"
      },
      "outputs": [],
      "source": [
        "def is_balanced(number):\n",
        "    num_str = str(number)\n",
        "    length = len(num_str)\n",
        "    \n",
        "    if length % 2 == 0:\n",
        "        mid_left = length // 2 - 1\n",
        "        mid_right = length // 2\n",
        "    else:\n",
        "        mid_left = mid_right = length // 2\n",
        "    \n",
        "    sum_left = sum(map(int, num_str[:mid_left + 1]))\n",
        "    sum_right = sum(map(int, num_str[mid_right:]))\n",
        "    \n",
        "    return sum_left == sum_right\n",
        "\n",
        "#Тесты\n",
        "def test_is_balanced():\n",
        "    assert is_balanced(121) == True\n",
        "    assert is_balanced(1234321) == True\n",
        "    assert is_balanced(12321) == True\n",
        "    assert is_balanced(1234567890) == False\n",
        "    assert is_balanced(11111) == True\n",
        "    assert is_balanced(123456) == False\n",
        "\n",
        "test_is_balanced()\n",
        "print(\"Все тесты пройдены успешно!\")"
      ]
    }
  ],
  "metadata": {
    "colab": {
      "provenance": []
    },
    "kernelspec": {
      "display_name": "Python 3",
      "name": "python3"
    },
    "language_info": {
      "name": "python"
    }
  },
  "nbformat": 4,
  "nbformat_minor": 0
}
